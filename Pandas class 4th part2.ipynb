{
 "cells": [
  {
   "cell_type": "code",
   "execution_count": 2,
   "id": "dc8338c5",
   "metadata": {},
   "outputs": [],
   "source": [
    "import pandas as pd \n",
    "import numpy as np\n",
    "import warnings\n",
    "warnings.filterwarnings('ignore')"
   ]
  },
  {
   "cell_type": "code",
   "execution_count": 3,
   "id": "d4b272dd",
   "metadata": {},
   "outputs": [],
   "source": [
    "matrix_data = np.matrix('22,66,140;42,70,148;30,62,125;35,68,160;25,62,152')\n",
    "row_labels = ['Raju' , 'Pandey' , 'Sarini' , 'Sunil' , 'Ashok']\n",
    "column_headings = ['Age' , 'Height' , 'Weight']"
   ]
  },
  {
   "cell_type": "code",
   "execution_count": 4,
   "id": "37fac9c8",
   "metadata": {},
   "outputs": [
    {
     "name": "stdout",
     "output_type": "stream",
     "text": [
      "\n",
      "new dataframe \n",
      "-------------------------\n",
      "        Age  Height  Weight\n",
      "Raju     22      66     140\n",
      "Pandey   42      70     148\n",
      "Sarini   30      62     125\n",
      "Sunil    35      68     160\n",
      "Ashok    25      62     152\n"
     ]
    }
   ],
   "source": [
    "df = pd.DataFrame(data = matrix_data , index = row_labels , columns = column_headings)\n",
    "print(\"\\nnew dataframe \\n\" , '-'*25 , sep='')\n",
    "print(df)"
   ]
  },
  {
   "cell_type": "code",
   "execution_count": 5,
   "id": "1eaaa05b",
   "metadata": {},
   "outputs": [
    {
     "data": {
      "text/plain": [
       "Raju      22\n",
       "Pandey    42\n",
       "Sarini    30\n",
       "Sunil     35\n",
       "Ashok     25\n",
       "Name: Age, dtype: int32"
      ]
     },
     "execution_count": 5,
     "metadata": {},
     "output_type": "execute_result"
    }
   ],
   "source": [
    "df.Age   #dot method not recommended"
   ]
  },
  {
   "cell_type": "code",
   "execution_count": 8,
   "id": "4b55ccb9",
   "metadata": {},
   "outputs": [
    {
     "data": {
      "text/plain": [
       "Age        22\n",
       "Height     66\n",
       "Weight    140\n",
       "Name: Raju, dtype: int32"
      ]
     },
     "execution_count": 8,
     "metadata": {},
     "output_type": "execute_result"
    }
   ],
   "source": [
    "#select particular index data using loc (index name)\n",
    "df.loc['Raju']"
   ]
  },
  {
   "cell_type": "code",
   "execution_count": 9,
   "id": "e06ec6a9",
   "metadata": {},
   "outputs": [
    {
     "data": {
      "text/plain": [
       "Age        22\n",
       "Height     66\n",
       "Weight    140\n",
       "Name: Raju, dtype: int32"
      ]
     },
     "execution_count": 9,
     "metadata": {},
     "output_type": "execute_result"
    }
   ],
   "source": [
    "#select particular index data using iloc(index position)\n",
    "df.iloc[0]"
   ]
  },
  {
   "cell_type": "code",
   "execution_count": 10,
   "id": "00c3539c",
   "metadata": {},
   "outputs": [
    {
     "name": "stdout",
     "output_type": "stream",
     "text": [
      "        Age  Height  Weight\n",
      "Raju     22      66     140\n",
      "Pandey   42      70     148\n",
      "Sarini   30      62     125\n",
      "Sunil    35      68     160\n",
      "Ashok    25      62     152\n"
     ]
    }
   ],
   "source": [
    "print(df)"
   ]
  },
  {
   "cell_type": "code",
   "execution_count": 11,
   "id": "904cd763",
   "metadata": {},
   "outputs": [
    {
     "name": "stdout",
     "output_type": "stream",
     "text": [
      "\\select index and column for a particular data\n",
      "\n",
      "70\n"
     ]
    }
   ],
   "source": [
    "print(\"\\select index and column for a particular data\\n\")\n",
    "print(df.loc['Pandey' , 'Height'])  #pandey is row name # height is column name "
   ]
  },
  {
   "cell_type": "code",
   "execution_count": 12,
   "id": "8768da7f",
   "metadata": {},
   "outputs": [
    {
     "name": "stdout",
     "output_type": "stream",
     "text": [
      "\n",
      "select index and column for a particular data \n",
      "\n",
      "Height     62\n",
      "Weight    152\n",
      "Name: Ashok, dtype: int32\n"
     ]
    }
   ],
   "source": [
    "print(\"\\nselect index and column for a particular data \\n\") \n",
    "print(df.loc['Ashok' , ['Height' , 'Weight']])"
   ]
  },
  {
   "cell_type": "code",
   "execution_count": 13,
   "id": "a2ccf3cd",
   "metadata": {},
   "outputs": [
    {
     "name": "stdout",
     "output_type": "stream",
     "text": [
      "\n",
      "select list of index and column data\n",
      " \n",
      "        Height  Weight\n",
      "Sarini      62     125\n",
      "Sunil       68     160\n"
     ]
    }
   ],
   "source": [
    "print(\"\\nselect list of index and column data\\n \")\n",
    "print(df.loc[['Sarini' , 'Sunil'],['Height' , 'Weight']])"
   ]
  },
  {
   "cell_type": "code",
   "execution_count": 14,
   "id": "2035df23",
   "metadata": {},
   "outputs": [
    {
     "data": {
      "text/html": [
       "<div>\n",
       "<style scoped>\n",
       "    .dataframe tbody tr th:only-of-type {\n",
       "        vertical-align: middle;\n",
       "    }\n",
       "\n",
       "    .dataframe tbody tr th {\n",
       "        vertical-align: top;\n",
       "    }\n",
       "\n",
       "    .dataframe thead th {\n",
       "        text-align: right;\n",
       "    }\n",
       "</style>\n",
       "<table border=\"1\" class=\"dataframe\">\n",
       "  <thead>\n",
       "    <tr style=\"text-align: right;\">\n",
       "      <th></th>\n",
       "      <th>Age</th>\n",
       "      <th>Height</th>\n",
       "      <th>Weight</th>\n",
       "    </tr>\n",
       "  </thead>\n",
       "  <tbody>\n",
       "    <tr>\n",
       "      <th>Raju</th>\n",
       "      <td>22</td>\n",
       "      <td>66</td>\n",
       "      <td>140</td>\n",
       "    </tr>\n",
       "    <tr>\n",
       "      <th>Pandey</th>\n",
       "      <td>42</td>\n",
       "      <td>70</td>\n",
       "      <td>148</td>\n",
       "    </tr>\n",
       "    <tr>\n",
       "      <th>Sarini</th>\n",
       "      <td>30</td>\n",
       "      <td>62</td>\n",
       "      <td>125</td>\n",
       "    </tr>\n",
       "    <tr>\n",
       "      <th>Sunil</th>\n",
       "      <td>35</td>\n",
       "      <td>68</td>\n",
       "      <td>160</td>\n",
       "    </tr>\n",
       "    <tr>\n",
       "      <th>Ashok</th>\n",
       "      <td>25</td>\n",
       "      <td>62</td>\n",
       "      <td>152</td>\n",
       "    </tr>\n",
       "  </tbody>\n",
       "</table>\n",
       "</div>"
      ],
      "text/plain": [
       "        Age  Height  Weight\n",
       "Raju     22      66     140\n",
       "Pandey   42      70     148\n",
       "Sarini   30      62     125\n",
       "Sunil    35      68     160\n",
       "Ashok    25      62     152"
      ]
     },
     "execution_count": 14,
     "metadata": {},
     "output_type": "execute_result"
    }
   ],
   "source": [
    "df"
   ]
  },
  {
   "cell_type": "markdown",
   "id": "63a818d6",
   "metadata": {},
   "source": [
    "# select data on condition"
   ]
  },
  {
   "cell_type": "code",
   "execution_count": 15,
   "id": "8aba70e7",
   "metadata": {},
   "outputs": [
    {
     "name": "stdout",
     "output_type": "stream",
     "text": [
      "\n",
      "rows with height >65 inch \n",
      "-----------------------------------\n",
      "        Age  Height  Weight\n",
      "Raju     22      66     140\n",
      "Pandey   42      70     148\n",
      "Sunil    35      68     160\n"
     ]
    }
   ],
   "source": [
    "print(\"\\nrows with height >65 inch \\n\" , '-'*35 , sep='')\n",
    "print(df[df['Height']>65])"
   ]
  },
  {
   "cell_type": "code",
   "execution_count": 16,
   "id": "f7be9169",
   "metadata": {},
   "outputs": [],
   "source": [
    "bloodf1 = df['Height']>65  #df['column']\n",
    "bloodf2 = df['Weight']>145"
   ]
  },
  {
   "cell_type": "code",
   "execution_count": 18,
   "id": "269512e8",
   "metadata": {},
   "outputs": [
    {
     "name": "stdout",
     "output_type": "stream",
     "text": [
      "\n",
      "rows with height >65 inch and weight >145 lbs\n",
      "------------------------------\n",
      "        Age  Height  Weight\n",
      "Pandey   42      70     148\n",
      "Sunil    35      68     160\n"
     ]
    }
   ],
   "source": [
    "print(\"\\nrows with height >65 inch and weight >145 lbs\\n\" , '-'*30,sep='')\n",
    "print(df[(bloodf1) & (bloodf2)])  #if both are true only then corresponding value will be fetched "
   ]
  },
  {
   "cell_type": "code",
   "execution_count": 19,
   "id": "f59ef4f1",
   "metadata": {},
   "outputs": [
    {
     "data": {
      "text/html": [
       "<div>\n",
       "<style scoped>\n",
       "    .dataframe tbody tr th:only-of-type {\n",
       "        vertical-align: middle;\n",
       "    }\n",
       "\n",
       "    .dataframe tbody tr th {\n",
       "        vertical-align: top;\n",
       "    }\n",
       "\n",
       "    .dataframe thead th {\n",
       "        text-align: right;\n",
       "    }\n",
       "</style>\n",
       "<table border=\"1\" class=\"dataframe\">\n",
       "  <thead>\n",
       "    <tr style=\"text-align: right;\">\n",
       "      <th></th>\n",
       "      <th>Age</th>\n",
       "      <th>Height</th>\n",
       "      <th>Weight</th>\n",
       "    </tr>\n",
       "  </thead>\n",
       "  <tbody>\n",
       "    <tr>\n",
       "      <th>Raju</th>\n",
       "      <td>22</td>\n",
       "      <td>66</td>\n",
       "      <td>140</td>\n",
       "    </tr>\n",
       "    <tr>\n",
       "      <th>Pandey</th>\n",
       "      <td>42</td>\n",
       "      <td>70</td>\n",
       "      <td>148</td>\n",
       "    </tr>\n",
       "    <tr>\n",
       "      <th>Sarini</th>\n",
       "      <td>30</td>\n",
       "      <td>62</td>\n",
       "      <td>125</td>\n",
       "    </tr>\n",
       "    <tr>\n",
       "      <th>Sunil</th>\n",
       "      <td>35</td>\n",
       "      <td>68</td>\n",
       "      <td>160</td>\n",
       "    </tr>\n",
       "    <tr>\n",
       "      <th>Ashok</th>\n",
       "      <td>25</td>\n",
       "      <td>62</td>\n",
       "      <td>152</td>\n",
       "    </tr>\n",
       "  </tbody>\n",
       "</table>\n",
       "</div>"
      ],
      "text/plain": [
       "        Age  Height  Weight\n",
       "Raju     22      66     140\n",
       "Pandey   42      70     148\n",
       "Sarini   30      62     125\n",
       "Sunil    35      68     160\n",
       "Ashok    25      62     152"
      ]
     },
     "execution_count": 19,
     "metadata": {},
     "output_type": "execute_result"
    }
   ],
   "source": [
    "df"
   ]
  },
  {
   "cell_type": "code",
   "execution_count": 20,
   "id": "a5f2754a",
   "metadata": {},
   "outputs": [
    {
     "name": "stdout",
     "output_type": "stream",
     "text": [
      "\n",
      "dataframe with only age and wight column whose Height >65 inch\n",
      "------------------------------------------------------------\n",
      "        Age  Weight\n",
      "Raju     22     140\n",
      "Pandey   42     148\n",
      "Sunil    35     160\n"
     ]
    }
   ],
   "source": [
    "print(\"\\ndataframe with only age and wight column whose Height >65 inch\\n\" , '-'*60 , sep='')\n",
    "print(df[bloodf1][['Age' , 'Weight']])  #based on the bloodf1 condition we fetch age and height"
   ]
  },
  {
   "cell_type": "code",
   "execution_count": 21,
   "id": "800e526e",
   "metadata": {},
   "outputs": [],
   "source": [
    "selected_candidates = df[bloodf1][['Age' , 'Weight']] #df[condition1][[column1 , column2]]"
   ]
  },
  {
   "cell_type": "code",
   "execution_count": 22,
   "id": "ed27b980",
   "metadata": {},
   "outputs": [
    {
     "data": {
      "text/html": [
       "<div>\n",
       "<style scoped>\n",
       "    .dataframe tbody tr th:only-of-type {\n",
       "        vertical-align: middle;\n",
       "    }\n",
       "\n",
       "    .dataframe tbody tr th {\n",
       "        vertical-align: top;\n",
       "    }\n",
       "\n",
       "    .dataframe thead th {\n",
       "        text-align: right;\n",
       "    }\n",
       "</style>\n",
       "<table border=\"1\" class=\"dataframe\">\n",
       "  <thead>\n",
       "    <tr style=\"text-align: right;\">\n",
       "      <th></th>\n",
       "      <th>Age</th>\n",
       "      <th>Weight</th>\n",
       "    </tr>\n",
       "  </thead>\n",
       "  <tbody>\n",
       "    <tr>\n",
       "      <th>Raju</th>\n",
       "      <td>22</td>\n",
       "      <td>140</td>\n",
       "    </tr>\n",
       "    <tr>\n",
       "      <th>Pandey</th>\n",
       "      <td>42</td>\n",
       "      <td>148</td>\n",
       "    </tr>\n",
       "    <tr>\n",
       "      <th>Sunil</th>\n",
       "      <td>35</td>\n",
       "      <td>160</td>\n",
       "    </tr>\n",
       "  </tbody>\n",
       "</table>\n",
       "</div>"
      ],
      "text/plain": [
       "        Age  Weight\n",
       "Raju     22     140\n",
       "Pandey   42     148\n",
       "Sunil    35     160"
      ]
     },
     "execution_count": 22,
     "metadata": {},
     "output_type": "execute_result"
    }
   ],
   "source": [
    "selected_candidates"
   ]
  },
  {
   "cell_type": "code",
   "execution_count": 23,
   "id": "95487d33",
   "metadata": {},
   "outputs": [
    {
     "name": "stdout",
     "output_type": "stream",
     "text": [
      "\n",
      "after resetting index \n",
      "-----------------------------------\n",
      "    index  Age  Height  Weight\n",
      "0    Raju   22      66     140\n",
      "1  Pandey   42      70     148\n",
      "2  Sarini   30      62     125\n",
      "3   Sunil   35      68     160\n",
      "4   Ashok   25      62     152\n"
     ]
    }
   ],
   "source": [
    "print(\"\\nafter resetting index \\n\" , '-'*35 , sep='')\n",
    "print(df.reset_index())   # to reset index but names will still appear"
   ]
  },
  {
   "cell_type": "code",
   "execution_count": 24,
   "id": "aee3684c",
   "metadata": {},
   "outputs": [
    {
     "name": "stdout",
     "output_type": "stream",
     "text": [
      "\n",
      "after reseting index with 'drop' option true \n",
      "-----------------------------------\n",
      "   Age  Height  Weight\n",
      "0   22      66     140\n",
      "1   42      70     148\n",
      "2   30      62     125\n",
      "3   35      68     160\n",
      "4   25      62     152\n"
     ]
    }
   ],
   "source": [
    "print(\"\\nafter reseting index with 'drop' option true \\n\" , '-'*35 , sep='')\n",
    "print(df.reset_index(drop = True))  #to drop the names "
   ]
  },
  {
   "cell_type": "code",
   "execution_count": 25,
   "id": "f3c1ea34",
   "metadata": {},
   "outputs": [
    {
     "name": "stdout",
     "output_type": "stream",
     "text": [
      "\n",
      "adding a new column 'Profession' \n",
      "-----------------------------------\n",
      "        Age  Height  Weight Profession\n",
      "Raju     22      66     140   Students\n",
      "Pandey   42      70     148    Teacher\n",
      "Sarini   30      62     125   Engineer\n",
      "Sunil    35      68     160  Assistant\n",
      "Ashok    25      62     152   Software\n"
     ]
    }
   ],
   "source": [
    "print(\"\\nadding a new column 'Profession' \\n\" , '-'*35 , sep='')\n",
    "df['Profession'] = \"Students  Teacher Engineer Assistant Software \" .split()\n",
    "print(df)  #adding a new column"
   ]
  },
  {
   "cell_type": "code",
   "execution_count": 26,
   "id": "b8527126",
   "metadata": {},
   "outputs": [
    {
     "name": "stdout",
     "output_type": "stream",
     "text": [
      "\n",
      "setting 'Profession' column as index\n",
      "-----------------------------------\n",
      "            Age  Height  Weight\n",
      "Profession                     \n",
      "Students     22      66     140\n",
      "Teacher      42      70     148\n",
      "Engineer     30      62     125\n",
      "Assistant    35      68     160\n",
      "Software     25      62     152\n"
     ]
    }
   ],
   "source": [
    "print(\"\\nsetting 'Profession' column as index\\n\" , '-'*35 , sep='')\n",
    "print(df.set_index('Profession'))"
   ]
  },
  {
   "cell_type": "code",
   "execution_count": null,
   "id": "568853f9",
   "metadata": {},
   "outputs": [],
   "source": []
  }
 ],
 "metadata": {
  "kernelspec": {
   "display_name": "Python 3 (ipykernel)",
   "language": "python",
   "name": "python3"
  },
  "language_info": {
   "codemirror_mode": {
    "name": "ipython",
    "version": 3
   },
   "file_extension": ".py",
   "mimetype": "text/x-python",
   "name": "python",
   "nbconvert_exporter": "python",
   "pygments_lexer": "ipython3",
   "version": "3.9.13"
  }
 },
 "nbformat": 4,
 "nbformat_minor": 5
}
